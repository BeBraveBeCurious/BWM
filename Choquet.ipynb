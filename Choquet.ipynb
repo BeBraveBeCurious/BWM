{
  "nbformat": 4,
  "nbformat_minor": 0,
  "metadata": {
    "colab": {
      "name": "Choquet.ipynb",
      "provenance": [],
      "collapsed_sections": [],
      "authorship_tag": "ABX9TyPRhMz0R3XXgwubg93Llp9a",
      "include_colab_link": true
    },
    "kernelspec": {
      "name": "python3",
      "display_name": "Python 3"
    },
    "language_info": {
      "name": "python"
    }
  },
  "cells": [
    {
      "cell_type": "markdown",
      "metadata": {
        "id": "view-in-github",
        "colab_type": "text"
      },
      "source": [
        "<a href=\"https://colab.research.google.com/github/BeBraveBeCurious/BWM/blob/master/Choquet.ipynb\" target=\"_parent\"><img src=\"https://colab.research.google.com/assets/colab-badge.svg\" alt=\"Open In Colab\"/></a>"
      ]
    },
    {
      "cell_type": "code",
      "metadata": {
        "id": "GOv92z-vhb24"
      },
      "source": [
        "import numpy as np\n",
        "import itertools\n",
        "from cvxopt import solvers, matrix"
      ],
      "execution_count": 1,
      "outputs": []
    },
    {
      "cell_type": "code",
      "metadata": {
        "id": "qoJ134AchesM"
      },
      "source": [
        "class ChoquetIntegral:\n",
        "\n",
        "    def __init__(self):\n",
        "        \"\"\"Instantiation of a ChoquetIntegral.\n",
        "           This sets up the ChI. It doesn't take any input parameters\n",
        "           because you may want to use pass your own values in(as opposed\n",
        "           to learning from data). To instatiate, use\n",
        "           chi = ChoquetIntegral.ChoquetIntegral()\n",
        "        \"\"\"\n",
        "        self.trainSamples, self.trainLabels = [], []\n",
        "        self.testSamples, self.testLabels = [], []\n",
        "        self.N, self.numberConstraints, self.M = 0, 0, 0\n",
        "        self.g = 0\n",
        "        self.fm = []\n",
        "        self.type = []\n",
        "\n",
        "\n",
        "    def train_chi(self, x1, l1):\n",
        "        \"\"\"\n",
        "        This trains this instance of your ChoquetIntegral w.r.t x1 and l1.\n",
        "        :param x1: These are the training samples of size N x M(inputs x number of samples)\n",
        "        :param l1: These are the training labels of size 1 x M(label per sample)\n",
        "        \"\"\"\n",
        "        self.type = 'quad'\n",
        "        self.trainSamples = x1\n",
        "        self.trainLabels = l1\n",
        "        self.N = self.trainSamples.shape[0]\n",
        "        self.M = self.trainSamples.shape[1]\n",
        "        print(\"Number Inputs : \", self.N, \"; Number Samples : \", self.M)\n",
        "        self.fm = self.produce_lattice()\n",
        "\n",
        "        return self\n",
        "\n",
        "\n",
        "\n",
        "    def chi_quad(self, x2):\n",
        "        \"\"\"\n",
        "        This will produce an output for this instance of the ChI\n",
        "        This will use the learned(or specified) Choquet integral to\n",
        "        produce an output w.r.t. to the new input.\n",
        "        :param x2: testing sample\n",
        "        :return: output of the choquet integral.\n",
        "        \"\"\"\n",
        "        if self.type == 'quad':\n",
        "            n = len(x2)\n",
        "            pi_i = np.argsort(x2)[::-1][:n] + 1\n",
        "            ch = x2[pi_i[0] - 1] * (self.fm[str(pi_i[:1])])\n",
        "            for i in range(1, n):\n",
        "                latt_pti = np.sort(pi_i[:i + 1])\n",
        "                latt_ptimin1 = np.sort(pi_i[:i])\n",
        "                ch = ch + x2[pi_i[i] - 1] * (self.fm[str(latt_pti)] - self.fm[str(latt_ptimin1)])\n",
        "            return ch\n",
        "        else:\n",
        "            print(\"If using sugeno measure, you need to use chi_sugeno.\")\n",
        "\n",
        "\n",
        "    def produce_lattice(self):\n",
        "        \"\"\"\n",
        "            This method builds is where the lattice(or FM variables) will be learned.\n",
        "            The FM values can be found via a quadratic program, which is used here\n",
        "            after setting up constraint matrices. Refer to papers for complete overview.\n",
        "        :return: Lattice, the learned FM variables.\n",
        "        \"\"\"\n",
        "\n",
        "        fm_len = 2 ** self.N - 1  # nc\n",
        "        E = np.zeros((fm_len, fm_len))  # D\n",
        "        L = np.zeros(fm_len)  # f\n",
        "        index_keys = self.get_keys_index()\n",
        "        for i in range(0, self.M):  # it's going through one sample at a time.\n",
        "            l = self.trainLabels[i]  # this is the labels\n",
        "            fm_coeff = self.get_fm_class_img_coeff(index_keys, self.trainSamples[:, i], fm_len)  # this is Hdiff\n",
        "            # print(fm_coeff)\n",
        "            L = L + (-2) * l * fm_coeff\n",
        "            E = E + np.matmul(fm_coeff.reshape((fm_len, 1)), fm_coeff.reshape((1, fm_len)))\n",
        "\n",
        "        G, h, A, b = self.build_constraint_matrices(index_keys, fm_len)\n",
        "        sol = solvers.qp(matrix(2 * E, tc='d'), matrix(L.T, tc='d'), matrix(G, tc='d'), matrix(h, tc='d'),\n",
        "                         matrix(A, tc='d'), matrix(b, tc='d'))\n",
        "\n",
        "        g = sol['x']\n",
        "        Lattice = {}\n",
        "        for key in index_keys.keys():\n",
        "            Lattice[key] = g[index_keys[key]]\n",
        "        return Lattice\n",
        "\n",
        "\n",
        "    def build_constraint_matrices(self, index_keys, fm_len):\n",
        "        \"\"\"\n",
        "        This method builds the necessary constraint matrices.\n",
        "        :param index_keys: map to reference lattice components\n",
        "        :param fm_len: length of the fuzzy measure\n",
        "        :return: the constraint matrices\n",
        "        \"\"\"\n",
        "\n",
        "        vls = np.arange(1, self.N + 1)\n",
        "        line = np.zeros(fm_len)\n",
        "        G = line\n",
        "        line[index_keys[str(np.array([1]))]] = -1.\n",
        "        h = np.array([0])\n",
        "        for i in range(2, self.N + 1):\n",
        "            line = np.zeros(fm_len)\n",
        "            line[index_keys[str(np.array([i]))]] = -1.\n",
        "            G = np.vstack((G, line))\n",
        "            h = np.vstack((h, np.array([0])))\n",
        "        for i in range(2, self.N + 1):\n",
        "            parent = np.array(list(itertools.combinations(vls, i)))\n",
        "            for latt_pt in parent:\n",
        "                for j in range(len(latt_pt) - 1, len(latt_pt)):\n",
        "                    children = np.array(list(itertools.combinations(latt_pt, j)))\n",
        "                    for latt_ch in children:\n",
        "                        line = np.zeros(fm_len)\n",
        "                        line[index_keys[str(latt_ch)]] = 1.\n",
        "                        line[index_keys[str(latt_pt)]] = -1.\n",
        "                        G = np.vstack((G, line))\n",
        "                        h = np.vstack((h, np.array([0])))\n",
        "\n",
        "        line = np.zeros(fm_len)\n",
        "        line[index_keys[str(vls)]] = 1.\n",
        "        G = np.vstack((G, line))\n",
        "        h = np.vstack((h, np.array([1])))\n",
        "\n",
        "        # equality constraints\n",
        "        A = np.zeros((1, fm_len))\n",
        "        A[0, -1] = 1\n",
        "        b = np.array([1]);\n",
        "\n",
        "        return G, h, A, b\n",
        "\n",
        "\n",
        "    def get_fm_class_img_coeff(self, Lattice, h, fm_len):  # Lattice is FM_name_and_index, h is the samples, fm_len\n",
        "        \"\"\"\n",
        "        This creates a FM map with the name as the key and the index as the value\n",
        "        :param Lattice: dictionary with FM\n",
        "        :param h: sample\n",
        "        :param fm_len: fm length\n",
        "        :return: the fm_coeff\n",
        "        \"\"\"\n",
        "\n",
        "        n = len(h)  # len(h) is the number of the samples\n",
        "        fm_coeff = np.zeros(fm_len)\n",
        "        pi_i = np.argsort(h)[::-1][:n] + 1\n",
        "        for i in range(1, n):\n",
        "            fm_coeff[Lattice[str(np.sort(pi_i[:i]))]] = h[pi_i[i - 1] - 1] - h[pi_i[i] - 1]\n",
        "        fm_coeff[Lattice[str(np.sort(pi_i[:n]))]] = h[pi_i[n - 1] - 1]\n",
        "        np.matmul(fm_coeff, np.transpose(fm_coeff))\n",
        "        return fm_coeff\n",
        "\n",
        "\n",
        "    def get_keys_index(self):\n",
        "        \"\"\"\n",
        "        Sets up a dictionary for referencing FM.\n",
        "        :return: The keys to the dictionary\n",
        "        \"\"\"\n",
        "\n",
        "        vls = np.arange(1, self.N + 1)\n",
        "        count = 0\n",
        "        Lattice = {}\n",
        "        for i in range(0, self.N):\n",
        "            Lattice[str(np.array([vls[i]]))] = count\n",
        "            count = count + 1\n",
        "        for i in range(2, self.N + 1):\n",
        "            A = np.array(list(itertools.combinations(vls, i)))\n",
        "            for latt_pt in A:\n",
        "                Lattice[str(latt_pt)] = count\n",
        "                count = count + 1\n",
        "        return Lattice"
      ],
      "execution_count": 2,
      "outputs": []
    },
    {
      "cell_type": "code",
      "metadata": {
        "colab": {
          "base_uri": "https://localhost:8080/"
        },
        "id": "z110v7oGhkEQ",
        "outputId": "76122cd6-adba-4580-8c66-74de838fd1a3"
      },
      "source": [
        "if __name__ == '__main__':\n",
        "    # instatiate ChoquetIntegral object\n",
        "    \n",
        "    chi = ChoquetIntegral()\n",
        "    \n",
        "    # create data samples and labels to produce a max aggregation operation\n",
        "    \n",
        "    data = np.random.rand(3, 25)\n",
        "    labels = np.amax(data, 0)\n",
        "    \n",
        "    # train the chi via quadratic program \n",
        "    chi.train_chi(data, labels)\n",
        "\n",
        "    # print out the learned chi variables. (in this case, all 1's) \n",
        "    print(chi.fm)"
      ],
      "execution_count": 3,
      "outputs": [
        {
          "output_type": "stream",
          "text": [
            "Number Inputs :  3 ; Number Samples :  25\n",
            "     pcost       dcost       gap    pres   dres\n",
            " 0: -1.5517e+01 -1.9933e+01  2e+01  4e+00  4e-01\n",
            " 1: -1.5136e+01 -1.7924e+01  3e+00  4e-02  4e-03\n",
            " 2: -1.5484e+01 -1.5952e+01  5e-01  4e-03  5e-04\n",
            " 3: -1.5644e+01 -1.5723e+01  8e-02  4e-05  5e-06\n",
            " 4: -1.5673e+01 -1.5683e+01  1e-02  4e-07  5e-08\n",
            " 5: -1.5677e+01 -1.5679e+01  2e-03  4e-09  5e-10\n",
            " 6: -1.5678e+01 -1.5678e+01  2e-04  4e-11  5e-12\n",
            " 7: -1.5678e+01 -1.5678e+01  4e-05  4e-13  3e-13\n",
            " 8: -1.5678e+01 -1.5678e+01  5e-06  4e-15  4e-16\n",
            "Optimal solution found.\n",
            "{'[1]': 0.9991797815289991, '[2]': 0.9982591704912399, '[3]': 0.999216636829281, '[1 2]': 0.9998204244476965, '[1 3]': 0.9998935543130755, '[2 3]': 0.9998437953095702, '[1 2 3]': 1.0}\n"
          ],
          "name": "stdout"
        }
      ]
    },
    {
      "cell_type": "code",
      "metadata": {
        "colab": {
          "base_uri": "https://localhost:8080/"
        },
        "id": "ytn7j76Bhxpy",
        "outputId": "12c655cd-6bbe-4c94-d1d2-db9a48e92aa6"
      },
      "source": [
        "print(data)"
      ],
      "execution_count": 4,
      "outputs": [
        {
          "output_type": "stream",
          "text": [
            "[[0.56903708 0.6658986  0.99876895 0.42518015 0.09485378 0.66675754\n",
            "  0.0529299  0.97070373 0.619074   0.22022572 0.54879446 0.89146485\n",
            "  0.74377095 0.08428956 0.53506016 0.74906528 0.84662447 0.27370062\n",
            "  0.57693272 0.11094072 0.88223277 0.33895508 0.13635191 0.29297978\n",
            "  0.47294588]\n",
            " [0.94619876 0.27106214 0.4215942  0.53602007 0.48518513 0.10297508\n",
            "  0.24900413 0.57524246 0.04021041 0.50566753 0.20404259 0.06638178\n",
            "  0.11740658 0.23435837 0.65277491 0.16463801 0.69173158 0.19129738\n",
            "  0.90090434 0.09484511 0.82925084 0.41629096 0.5638254  0.98090415\n",
            "  0.75854004]\n",
            " [0.94901086 0.87599776 0.34557888 0.09295722 0.16944146 0.78450297\n",
            "  0.90209288 0.89937107 0.19960305 0.53091742 0.72393962 0.07756487\n",
            "  0.87576868 0.33201924 0.81927858 0.73517332 0.5904834  0.13742578\n",
            "  0.08766599 0.76174095 0.40211365 0.68238279 0.95646999 0.97513895\n",
            "  0.84854252]]\n"
          ],
          "name": "stdout"
        }
      ]
    },
    {
      "cell_type": "code",
      "metadata": {
        "colab": {
          "base_uri": "https://localhost:8080/"
        },
        "id": "YohvGVOOh0WO",
        "outputId": "ee62ef3a-579b-4710-9007-a9a00a4ceb0e"
      },
      "source": [
        "print(labels)"
      ],
      "execution_count": 5,
      "outputs": [
        {
          "output_type": "stream",
          "text": [
            "[0.94901086 0.87599776 0.99876895 0.53602007 0.48518513 0.78450297\n",
            " 0.90209288 0.97070373 0.619074   0.53091742 0.72393962 0.89146485\n",
            " 0.87576868 0.33201924 0.81927858 0.74906528 0.84662447 0.27370062\n",
            " 0.90090434 0.76174095 0.88223277 0.68238279 0.95646999 0.98090415\n",
            " 0.84854252]\n"
          ],
          "name": "stdout"
        }
      ]
    },
    {
      "cell_type": "code",
      "metadata": {
        "id": "F5TfGbEfiRnw"
      },
      "source": [
        ""
      ],
      "execution_count": null,
      "outputs": []
    }
  ]
}